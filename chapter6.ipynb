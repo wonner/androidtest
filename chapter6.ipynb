{
  "description": "test definition file",
  "metadata": {
    "kernelspec": {
      "name": "conda-env-machine_learning_cookbook-py",
      "display_name": "Python [conda env:machine_learning_cookbook]"
    },
    "language_info": {
      "name": "python"
    }
  },
  "nbformat": 4,
  "nbformat_minor": 2,
  "cells": [
    {
      "cell_type": "markdown",
      "metadata": {},
      "source": [
        "## Chapter 1\n",
        "\n",
        "# Vectors, Matrices, and Arrays\n",
        "\n",
        "### 1.0 Introduction\n",
        "Numpy is the foundation of the Python machine learning stack. It allows for efficient operations on the data structures often used in machine learning: vectors, matricies, and tensors.\n",
        "\n",
        "This chapter covers the most common NumPy operations we are likely to run into\n",
        "\n",
        "### 1.1 Creating a Vector\n",
        "#### Problem\n",
        "You need to create a vector\n",
        "#### Solution\n",
        "Use Numpy to create a one-dimensional array"
      ],
      "outputs": []
    }
  ]
}